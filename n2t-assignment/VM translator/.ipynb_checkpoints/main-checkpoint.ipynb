{
 "cells": [
  {
   "cell_type": "code",
   "execution_count": 1,
   "metadata": {},
   "outputs": [],
   "source": [
    "#main\n",
    "import os\n",
    "import sys\n",
    "import glob\n",
    "\n",
    "def main():\n",
    "    if len(sys.argv) == 2:\n",
    "        data, data_name, new_data = prepare_data(sys.argv[1])\n",
    "    else:\n",
    "        print(\"Missing arugment, you must specify a VM file to translate.\")\n",
    "        return\n",
    "    \n",
    "    parser = Parser(data, data_name)\n",
    "    new = parser.parse()\n",
    "    writer = CodeWriter(new_data, new)\n",
    "    writer.write()\n",
    "    return"
   ]
  },
  {
   "cell_type": "code",
   "execution_count": 2,
   "metadata": {},
   "outputs": [],
   "source": [
    "def prepare_data(dataset):\n",
    "    filename = os.listdir(dataset)\n",
    "    data_dir = os.path.join(os.getcwd(), dataset)\n",
    "    data = glob.glob(os.path.join(data_dir, \"*.vm\"))\n",
    "    print(\"data:\", data)\n",
    "    a= os.path.split(data)\n",
    "    data_name = os.path.splitext(a[-1])[0] #返回元组中的第一个str元素\n",
    "    new_data = \"%s%s\"%(data_name, '.asm')\n",
    "    \n",
    "    return data, data_name, new_data"
   ]
  },
  {
   "cell_type": "code",
   "execution_count": 3,
   "metadata": {},
   "outputs": [
    {
     "name": "stdout",
     "output_type": "stream",
     "text": [
      "Missing arugment, you must specify a VM file to translate.\n"
     ]
    }
   ],
   "source": [
    "if __name__ == '__main__':\n",
    "    main()"
   ]
  },
  {
   "cell_type": "code",
   "execution_count": null,
   "metadata": {},
   "outputs": [],
   "source": []
  }
 ],
 "metadata": {
  "kernelspec": {
   "display_name": "Python 3",
   "language": "python",
   "name": "python3"
  },
  "language_info": {
   "codemirror_mode": {
    "name": "ipython",
    "version": 3
   },
   "file_extension": ".py",
   "mimetype": "text/x-python",
   "name": "python",
   "nbconvert_exporter": "python",
   "pygments_lexer": "ipython3",
   "version": "3.7.6"
  }
 },
 "nbformat": 4,
 "nbformat_minor": 4
}
