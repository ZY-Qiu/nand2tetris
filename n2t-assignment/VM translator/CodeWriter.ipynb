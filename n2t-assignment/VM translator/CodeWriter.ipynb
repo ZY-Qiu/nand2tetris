{
 "cells": [
  {
   "cell_type": "code",
   "execution_count": null,
   "metadata": {},
   "outputs": [],
   "source": [
    "#CodeWriter\n",
    "\n",
    "class CodeWriter():\n",
    "    \n",
    "    def __init__(self, new_data, new):\n",
    "        self.new_data = new_data\n",
    "        self.new = new\n",
    "        \n",
    "    def write(self):\n",
    "        with open(self.new_data, 'w') as f:\n",
    "            f.writelines(self.new)\n",
    "        return"
   ]
  }
 ],
 "metadata": {
  "kernelspec": {
   "display_name": "Python 3",
   "language": "python",
   "name": "python3"
  },
  "language_info": {
   "codemirror_mode": {
    "name": "ipython",
    "version": 3
   },
   "file_extension": ".py",
   "mimetype": "text/x-python",
   "name": "python",
   "nbconvert_exporter": "python",
   "pygments_lexer": "ipython3",
   "version": "3.7.6"
  }
 },
 "nbformat": 4,
 "nbformat_minor": 4
}
