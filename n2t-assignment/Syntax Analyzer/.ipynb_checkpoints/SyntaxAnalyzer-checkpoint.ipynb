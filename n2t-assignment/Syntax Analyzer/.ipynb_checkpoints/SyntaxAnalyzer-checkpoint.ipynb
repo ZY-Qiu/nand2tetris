{
 "cells": [
  {
   "cell_type": "code",
   "execution_count": null,
   "metadata": {},
   "outputs": [],
   "source": [
    "import os\n",
    "import sys\n",
    "import glob\n",
    "\n",
    "def SyntaxAnalyzer():\n",
    "    if len(sys.argv) == 2:\n",
    "        data, data_name, new_data, isdir = prepare_data(sys.argv[1])\n",
    "    else:\n",
    "        print(\"Missing arugment, you must specify a Jack file or folder to translate.\")\n",
    "        return\n",
    "    \n",
    "    if (isdir):\n",
    "        for i in range(len(data)):\n",
    "            new_file = []\n",
    "            parser = Parser(data[i], data_name)\n",
    "            new = parser.parse()\n",
    "            full_new_file.extend(new)\n",
    "            write(new_data, new_file)\n",
    "        \n",
    "    else:\n",
    "        parser = Parser(data, data_name)\n",
    "        full_new_file = parser.parse()\n",
    "        write(new_data, full_new_file)\n",
    "    return"
   ]
  },
  {
   "cell_type": "code",
   "execution_count": null,
   "metadata": {},
   "outputs": [],
   "source": [
    "def prepare_data(dataset):\n",
    "    isdir = os.path.isdir(dataset)\n",
    "    if (isdir):\n",
    "        data_dir = os.path.join(os.getcwd(), dataset)\n",
    "        data = glob.glob(os.path.join(data_dir, \"*.jack\"))\n",
    "        for i in data:\n",
    "            file_name = os.path.split(i)[-1]\n",
    "            data_name = os.path.splitext(file_name)[0]\n",
    "            new_data = \"%s%s\"%(data_name, '.xml')\n",
    "    else:\n",
    "        data = os.path.join(os.getcwd(), dataset)\n",
    "        data_name = os.path.splitext(dataset)[0] #返回元组中的第一个str元素\n",
    "        new_data = \"%s%s\"%(data_name, '.xml')\n",
    "    print(\"new_data_name:\", new_data)\n",
    "    return data, data_name, new_data, isdir\n"
   ]
  },
  {
   "cell_type": "code",
   "execution_count": null,
   "metadata": {},
   "outputs": [],
   "source": [
    "def write(new_data, new):\n",
    "    with open(new_data, 'w') as f:\n",
    "        f.writelines(new)\n",
    "    return"
   ]
  },
  {
   "cell_type": "code",
   "execution_count": null,
   "metadata": {},
   "outputs": [],
   "source": [
    "SyntaxAnalyzer()"
   ]
  }
 ],
 "metadata": {
  "kernelspec": {
   "display_name": "Python 3",
   "language": "python",
   "name": "python3"
  },
  "language_info": {
   "codemirror_mode": {
    "name": "ipython",
    "version": 3
   },
   "file_extension": ".py",
   "mimetype": "text/x-python",
   "name": "python",
   "nbconvert_exporter": "python",
   "pygments_lexer": "ipython3",
   "version": "3.7.6"
  }
 },
 "nbformat": 4,
 "nbformat_minor": 4
}
